{
  "cells": [
    {
      "cell_type": "markdown",
      "metadata": {},
      "source": [
        "# ANOVA Analysis on Diamond Dataset\n",
        "\n",
        "This Jupyter notebook aims to explore the differences among various groups within the 'diamonds' dataset using ANOVA (Analysis of Variance). This statistical method helps in understanding how different factors like diamond color and cut influence diamond prices. \n",
        "\n",
        "This notebook is designed for individuals looking to understand basic to advanced statistical analysis in Python.\n",
        "\n",
        "## Background\n",
        "The 'diamonds' dataset contains price and other attributes of approximately 54,000 diamonds. It is an excellent dataset for demonstrating ANOVA because it contains both categorical variables (such as color and cut) and continuous variables (like price).\n",
        "\n",
        "### Source\n",
        "Data sourced from seaborn library, simulated representation of market data.\n"
      ]
    },
    {
      "cell_type": "markdown",
      "metadata": {},
      "source": [
        "### Objective and Applicability \n",
        "This notebook demonstrates an advanced statistical analysis using ANOVA (Analysis of Variance) to explore the impact of categorical variables—specifically, the color and cut of diamonds—on their price. By understanding these influences, this analysis aids in strategic decision-making for businesses involved in the trading, valuation, or marketing of diamonds.\n",
        "\n",
        "Practical Applications\n",
        "Strategic Pricing: ANOVA helps identify which factors (color, cut) significantly impact diamond prices. Businesses can use this information to strategically price their products based on these attributes to maximize profit.\n",
        "\n",
        "Inventory Management: By understanding the price variability associated with different cuts and colors, retailers can better manage their inventory by stocking products that are more likely to sell at higher prices.\n",
        "\n",
        "Marketing and Promotions: Insight into which attributes (color and cut) significantly affect price can guide targeted marketing campaigns. For instance, if certain colors or cuts are found to significantly enhance a diamond's value, marketing efforts can be tailored to highlight these premium features to potential customers.\n",
        "\n",
        "Customer Segmentation: The interaction effect between color and cut on price can help businesses understand consumer preferences in more depth. This knowledge can be used to segment customers based on their likely preferences for specific combinations of color and cut, enabling more personalized marketing and sales strategies."
      ]
    },
    {
      "cell_type": "markdown",
      "metadata": {},
      "source": [
        "## Setup and Data Preparation\n",
        "In this section, we load necessary Python libraries and prepare the data by selecting relevant subsets and transforming variables to meet the requirements of ANOVA tests."
      ]
    },
    {
      "cell_type": "code",
      "execution_count": 20,
      "metadata": {},
      "outputs": [
        {
          "name": "stdout",
          "output_type": "stream",
          "text": [
            "Collecting nbconvert\n",
            "  Downloading nbconvert-7.16.4-py3-none-any.whl.metadata (8.5 kB)\n",
            "Collecting beautifulsoup4 (from nbconvert)\n",
            "  Downloading beautifulsoup4-4.12.3-py3-none-any.whl.metadata (3.8 kB)\n",
            "Collecting bleach!=5.0.0 (from nbconvert)\n",
            "  Downloading bleach-6.1.0-py3-none-any.whl.metadata (30 kB)\n",
            "Collecting defusedxml (from nbconvert)\n",
            "  Downloading defusedxml-0.7.1-py2.py3-none-any.whl.metadata (32 kB)\n",
            "Requirement already satisfied: jinja2>=3.0 in /usr/local/lib/python3.11/site-packages (from nbconvert) (3.1.2)\n",
            "Requirement already satisfied: jupyter-core>=4.7 in /Users/talitaniero/Library/Python/3.11/lib/python/site-packages (from nbconvert) (5.3.1)\n",
            "Collecting jupyterlab-pygments (from nbconvert)\n",
            "  Downloading jupyterlab_pygments-0.3.0-py3-none-any.whl.metadata (4.4 kB)\n",
            "Requirement already satisfied: markupsafe>=2.0 in /usr/local/lib/python3.11/site-packages (from nbconvert) (2.1.3)\n",
            "Collecting mistune<4,>=2.0.3 (from nbconvert)\n",
            "  Downloading mistune-3.0.2-py3-none-any.whl.metadata (1.7 kB)\n",
            "Collecting nbclient>=0.5.0 (from nbconvert)\n",
            "  Downloading nbclient-0.10.0-py3-none-any.whl.metadata (7.8 kB)\n",
            "Collecting nbformat>=5.7 (from nbconvert)\n",
            "  Downloading nbformat-5.10.4-py3-none-any.whl.metadata (3.6 kB)\n",
            "Requirement already satisfied: packaging in /Users/talitaniero/Library/Python/3.11/lib/python/site-packages (from nbconvert) (23.1)\n",
            "Collecting pandocfilters>=1.4.1 (from nbconvert)\n",
            "  Downloading pandocfilters-1.5.1-py2.py3-none-any.whl.metadata (9.0 kB)\n",
            "Requirement already satisfied: pygments>=2.4.1 in /Users/talitaniero/Library/Python/3.11/lib/python/site-packages (from nbconvert) (2.16.1)\n",
            "Collecting tinycss2 (from nbconvert)\n",
            "  Downloading tinycss2-1.3.0-py3-none-any.whl.metadata (3.0 kB)\n",
            "Requirement already satisfied: traitlets>=5.1 in /Users/talitaniero/Library/Python/3.11/lib/python/site-packages (from nbconvert) (5.9.0)\n",
            "Requirement already satisfied: six>=1.9.0 in /Users/talitaniero/Library/Python/3.11/lib/python/site-packages (from bleach!=5.0.0->nbconvert) (1.16.0)\n",
            "Collecting webencodings (from bleach!=5.0.0->nbconvert)\n",
            "  Downloading webencodings-0.5.1-py2.py3-none-any.whl.metadata (2.1 kB)\n",
            "Requirement already satisfied: platformdirs>=2.5 in /Users/talitaniero/Library/Python/3.11/lib/python/site-packages (from jupyter-core>=4.7->nbconvert) (3.10.0)\n",
            "Requirement already satisfied: jupyter-client>=6.1.12 in /Users/talitaniero/Library/Python/3.11/lib/python/site-packages (from nbclient>=0.5.0->nbconvert) (8.3.0)\n",
            "Collecting fastjsonschema>=2.15 (from nbformat>=5.7->nbconvert)\n",
            "  Downloading fastjsonschema-2.19.1-py3-none-any.whl.metadata (2.1 kB)\n",
            "Collecting jsonschema>=2.6 (from nbformat>=5.7->nbconvert)\n",
            "  Downloading jsonschema-4.22.0-py3-none-any.whl.metadata (8.2 kB)\n",
            "Collecting soupsieve>1.2 (from beautifulsoup4->nbconvert)\n",
            "  Downloading soupsieve-2.5-py3-none-any.whl.metadata (4.7 kB)\n",
            "Requirement already satisfied: attrs>=22.2.0 in /usr/local/lib/python3.11/site-packages (from jsonschema>=2.6->nbformat>=5.7->nbconvert) (23.1.0)\n",
            "Collecting jsonschema-specifications>=2023.03.6 (from jsonschema>=2.6->nbformat>=5.7->nbconvert)\n",
            "  Downloading jsonschema_specifications-2023.12.1-py3-none-any.whl.metadata (3.0 kB)\n",
            "Collecting referencing>=0.28.4 (from jsonschema>=2.6->nbformat>=5.7->nbconvert)\n",
            "  Downloading referencing-0.35.1-py3-none-any.whl.metadata (2.8 kB)\n",
            "Collecting rpds-py>=0.7.1 (from jsonschema>=2.6->nbformat>=5.7->nbconvert)\n",
            "  Downloading rpds_py-0.18.1-cp311-cp311-macosx_10_12_x86_64.whl.metadata (4.1 kB)\n",
            "Requirement already satisfied: python-dateutil>=2.8.2 in /Users/talitaniero/Library/Python/3.11/lib/python/site-packages (from jupyter-client>=6.1.12->nbclient>=0.5.0->nbconvert) (2.8.2)\n",
            "Requirement already satisfied: pyzmq>=23.0 in /Users/talitaniero/Library/Python/3.11/lib/python/site-packages (from jupyter-client>=6.1.12->nbclient>=0.5.0->nbconvert) (25.1.1)\n",
            "Requirement already satisfied: tornado>=6.2 in /Users/talitaniero/Library/Python/3.11/lib/python/site-packages (from jupyter-client>=6.1.12->nbclient>=0.5.0->nbconvert) (6.3.3)\n",
            "Downloading nbconvert-7.16.4-py3-none-any.whl (257 kB)\n",
            "\u001b[2K   \u001b[90m━━━━━━━━━━━━━━━━━━━━━━━━━━━━━━━━━━━━━━━━\u001b[0m \u001b[32m257.4/257.4 kB\u001b[0m \u001b[31m7.0 MB/s\u001b[0m eta \u001b[36m0:00:00\u001b[0m\n",
            "\u001b[?25hDownloading bleach-6.1.0-py3-none-any.whl (162 kB)\n",
            "\u001b[2K   \u001b[90m━━━━━━━━━━━━━━━━━━━━━━━━━━━━━━━━━━━━━━━━\u001b[0m \u001b[32m162.8/162.8 kB\u001b[0m \u001b[31m3.4 MB/s\u001b[0m eta \u001b[36m0:00:00\u001b[0mta \u001b[36m0:00:01\u001b[0m\n",
            "\u001b[?25hDownloading mistune-3.0.2-py3-none-any.whl (47 kB)\n",
            "\u001b[2K   \u001b[90m━━━━━━━━━━━━━━━━━━━━━━━━━━━━━━━━━━━━━━━━\u001b[0m \u001b[32m48.0/48.0 kB\u001b[0m \u001b[31m1.6 MB/s\u001b[0m eta \u001b[36m0:00:00\u001b[0m\n",
            "\u001b[?25hDownloading nbclient-0.10.0-py3-none-any.whl (25 kB)\n",
            "Downloading nbformat-5.10.4-py3-none-any.whl (78 kB)\n",
            "\u001b[2K   \u001b[90m━━━━━━━━━━━━━━━━━━━━━━━━━━━━━━━━━━━━━━━━\u001b[0m \u001b[32m78.5/78.5 kB\u001b[0m \u001b[31m1.6 MB/s\u001b[0m eta \u001b[36m0:00:00\u001b[0meta \u001b[36m0:00:01\u001b[0m\n",
            "\u001b[?25hDownloading pandocfilters-1.5.1-py2.py3-none-any.whl (8.7 kB)\n",
            "Downloading beautifulsoup4-4.12.3-py3-none-any.whl (147 kB)\n",
            "\u001b[2K   \u001b[90m━━━━━━━━━━━━━━━━━━━━━━━━━━━━━━━━━━━━━━━━\u001b[0m \u001b[32m147.9/147.9 kB\u001b[0m \u001b[31m4.7 MB/s\u001b[0m eta \u001b[36m0:00:00\u001b[0m\n",
            "\u001b[?25hDownloading defusedxml-0.7.1-py2.py3-none-any.whl (25 kB)\n",
            "Downloading jupyterlab_pygments-0.3.0-py3-none-any.whl (15 kB)\n",
            "Downloading tinycss2-1.3.0-py3-none-any.whl (22 kB)\n",
            "Downloading fastjsonschema-2.19.1-py3-none-any.whl (23 kB)\n",
            "Downloading jsonschema-4.22.0-py3-none-any.whl (88 kB)\n",
            "\u001b[2K   \u001b[90m━━━━━━━━━━━━━━━━━━━━━━━━━━━━━━━━━━━━━━━━\u001b[0m \u001b[32m88.3/88.3 kB\u001b[0m \u001b[31m1.6 MB/s\u001b[0m eta \u001b[36m0:00:00\u001b[0mta \u001b[36m0:00:01\u001b[0m\n",
            "\u001b[?25hDownloading soupsieve-2.5-py3-none-any.whl (36 kB)\n",
            "Downloading webencodings-0.5.1-py2.py3-none-any.whl (11 kB)\n",
            "Downloading jsonschema_specifications-2023.12.1-py3-none-any.whl (18 kB)\n",
            "Downloading referencing-0.35.1-py3-none-any.whl (26 kB)\n",
            "Downloading rpds_py-0.18.1-cp311-cp311-macosx_10_12_x86_64.whl (327 kB)\n",
            "\u001b[2K   \u001b[90m━━━━━━━━━━━━━━━━━━━━━━━━━━━━━━━━━━━━━━━━\u001b[0m \u001b[32m327.8/327.8 kB\u001b[0m \u001b[31m8.2 MB/s\u001b[0m eta \u001b[36m0:00:00\u001b[0m:00:01\u001b[0m\n",
            "\u001b[?25hInstalling collected packages: webencodings, fastjsonschema, tinycss2, soupsieve, rpds-py, pandocfilters, mistune, jupyterlab-pygments, defusedxml, bleach, referencing, beautifulsoup4, jsonschema-specifications, jsonschema, nbformat, nbclient, nbconvert\n",
            "Successfully installed beautifulsoup4-4.12.3 bleach-6.1.0 defusedxml-0.7.1 fastjsonschema-2.19.1 jsonschema-4.22.0 jsonschema-specifications-2023.12.1 jupyterlab-pygments-0.3.0 mistune-3.0.2 nbclient-0.10.0 nbconvert-7.16.4 nbformat-5.10.4 pandocfilters-1.5.1 referencing-0.35.1 rpds-py-0.18.1 soupsieve-2.5 tinycss2-1.3.0 webencodings-0.5.1\n",
            "\n",
            "\u001b[1m[\u001b[0m\u001b[34;49mnotice\u001b[0m\u001b[1;39;49m]\u001b[0m\u001b[39;49m A new release of pip is available: \u001b[0m\u001b[31;49m23.3.1\u001b[0m\u001b[39;49m -> \u001b[0m\u001b[32;49m24.0\u001b[0m\n",
            "\u001b[1m[\u001b[0m\u001b[34;49mnotice\u001b[0m\u001b[1;39;49m]\u001b[0m\u001b[39;49m To update, run: \u001b[0m\u001b[32;49mpython3.11 -m pip install --upgrade pip\u001b[0m\n",
            "Note: you may need to restart the kernel to use updated packages.\n"
          ]
        }
      ],
      "source": [
        "### pip install nbconvert"
      ]
    },
    {
      "cell_type": "code",
      "execution_count": 29,
      "metadata": {},
      "outputs": [
        {
          "data": {
            "text/plain": [
              "[{'cell_type': 'markdown',\n",
              "  'metadata': {},\n",
              "  'source': '### ANOVA Test Techniques with Python\\n#### Purpose: Analysis of Variance to comprehend differences across various groups within a dataset. This is a notebook for learners who are already familiar with Python and basics of statistics.'},\n",
              " {'cell_type': 'markdown',\n",
              "  'metadata': {},\n",
              "  'source': '### Dataset\\nIt will be used the \"diamonds\" dataset from seaborn library, which includes prices and attributes of apx 54,000 diamonds. The dataset allows a demonstration of ANOVA due to its categoricals variables like color and cur, and a continuos variable, price.'},\n",
              " {'cell_type': 'markdown',\n",
              "  'metadata': {},\n",
              "  'source': '### Setup and Data Preparation\\nStart by loading the necessary Python libraries and the dataset. We focus on preparing the data to meet the requirements of ANOVA tests.'},\n",
              " {'cell_type': 'code',\n",
              "  'execution_count': 9,\n",
              "  'metadata': {},\n",
              "  'outputs': [],\n",
              "  'source': '# Import Libraries\\n\\nimport pandas as pd\\nimport seaborn as sns\\nimport numpy as np\\nimport statsmodels.api as sm\\nfrom statsmodels.formula.api import ols\\n\\n# Load dataset\\ndiamonds = sns.load_dataset(\"diamonds\")\\n\\n# Assuming \\'diamonds\\' DataFrame is already defined and includes a \\'price\\' column\\n# Data cleaning steps\\n# Select relevant subset of data\\ndiamonds = diamonds[diamonds[\\'color\\'].isin([\\'D\\', \\'E\\', \\'F\\', \\'G\\', \\'H\\', \\'I\\'])]\\ndiamonds[\\'log_price\\'] = np.log(diamonds[\\'price\\'])\\n'},\n",
              " {'cell_type': 'code',\n",
              "  'execution_count': 5,\n",
              "  'metadata': {},\n",
              "  'outputs': [],\n",
              "  'source': \"# Manage Warning in you python script\\nimport warnings\\n\\n# Suppress all UserWarnings\\nwarnings.filterwarnings('ignore', category=UserWarning)\\n\\n# Alternatively, suppress only specific messages by part of their message text\\nwarnings.filterwarnings('ignore', message='covariance of constraints does')\\n\"},\n",
              " {'cell_type': 'markdown',\n",
              "  'metadata': {},\n",
              "  'source': '### One-way ANOVA\\nOne-way ANOVA is used here to compare the means of the logarithmic prices among different color grades of diamonds.'},\n",
              " {'cell_type': 'code',\n",
              "  'execution_count': 6,\n",
              "  'metadata': {},\n",
              "  'outputs': [{'name': 'stdout',\n",
              "    'output_type': 'stream',\n",
              "    'text': '               df        sum_sq     mean_sq           F         PR(>F)\\nC(color)      6.0   1052.065696  175.344283  175.521753  5.820088e-222\\nResidual  51126.0  51074.306444    0.998989         NaN            NaN\\n'}],\n",
              "  'source': \"# Run the ANOVA\\nmodel = ols('log_price ~ C(color)', data=diamonds).fit()\\nanova_results = sm.stats.anova_lm(model, typ=1)\\nprint(anova_results)\\n\"},\n",
              " {'cell_type': 'markdown',\n",
              "  'metadata': {},\n",
              "  'source': '### Two-Way ANOVA\\nUmderstand how cut and color influence diamond prices, considering interactions between thses factors. '},\n",
              " {'cell_type': 'code',\n",
              "  'execution_count': 7,\n",
              "  'metadata': {},\n",
              "  'outputs': [{'name': 'stdout',\n",
              "    'output_type': 'stream',\n",
              "    'text': '                       sum_sq       df         F        PR(>F)\\nC(color)                  NaN      6.0       NaN           NaN\\nC(cut)                    NaN      4.0       NaN           NaN\\nC(color):C(cut)    116.543781     24.0  4.866272  4.739459e-07\\nResidual         44928.873326  45024.0       NaN           NaN\\n'},\n",
              "   {'name': 'stderr',\n",
              "    'output_type': 'stream',\n",
              "    'text': '/usr/local/lib/python3.11/site-packages/statsmodels/base/model.py:1917: RuntimeWarning: invalid value encountered in divide\\n  F /= J\\n'}],\n",
              "  'source': \"# Preparing data for two-way ANOVA\\ndiamonds_cut = diamonds[diamonds['cut'].isin(['Ideal', 'Premium', 'Very Good'])]\\n\\n# Run two-way ANOVA\\nmodel2 = ols('log_price ~ C(color) + C(cut) + C(color):C(cut)', data=diamonds_cut).fit()\\nanova2_results = sm.stats.anova_lm(model2, typ=2)\\nprint(anova2_results)\\n\"},\n",
              " {'cell_type': 'code',\n",
              "  'execution_count': 8,\n",
              "  'metadata': {},\n",
              "  'outputs': [{'name': 'stdout',\n",
              "    'output_type': 'stream',\n",
              "    'text': 'Multiple Comparison of Means - Tukey HSD, FWER=0.05\\n===================================================\\ngroup1 group2 meandiff p-adj   lower  upper  reject\\n---------------------------------------------------\\n     D      E  -0.0375 0.1652 -0.0825 0.0075  False\\n     D      F   0.1455    0.0  0.1003 0.1908   True\\n     D      G   0.1727    0.0  0.1289 0.2165   True\\n     D      H   0.3015    0.0  0.2549 0.3482   True\\n     D      I   0.4061    0.0  0.3542  0.458   True\\n     E      F    0.183    0.0  0.1421  0.224   True\\n     E      G   0.2102    0.0  0.1709 0.2495   True\\n     E      H    0.339    0.0  0.2966 0.3815   True\\n     E      I   0.4436    0.0  0.3953 0.4918   True\\n     F      G   0.0271 0.3698 -0.0125 0.0668  False\\n     F      H    0.156    0.0  0.1133 0.1988   True\\n     F      I   0.2605    0.0  0.2121  0.309   True\\n     G      H   0.1289    0.0  0.0877   0.17   True\\n     G      I   0.2334    0.0  0.1863 0.2804   True\\n     H      I   0.1045    0.0  0.0548 0.1542   True\\n---------------------------------------------------\\n'}],\n",
              "  'source': \"# Analysis which groups differ from each other\\n\\nfrom statsmodels.stats.multicomp import pairwise_tukeyhsd\\n\\n# Post hoc analysis after one-way ANOVA\\npost_hoc_results = pairwise_tukeyhsd(endog=diamonds['log_price'], groups=diamonds['color'], alpha=0.05)\\nprint(post_hoc_results.summary())\\n\"}]"
            ]
          },
          "execution_count": 29,
          "metadata": {},
          "output_type": "execute_result"
        }
      ],
      "source": [
        "import nbformat as nbformat\n",
        "\n",
        "# Load the Jupyter notebook\n",
        "file_path = 'ANOVA_diamonds.ipynb'\n",
        "with open(file_path, 'r') as f:\n",
        "    nb = nbformat.read(f, as_version=4)\n",
        "\n",
        "# Displaying the contents of the notebook\n",
        "nb.cells\n"
      ]
    },
    {
      "cell_type": "code",
      "execution_count": 30,
      "metadata": {
        "trusted": true
      },
      "outputs": [],
      "source": [
        "# Import Libraries\n",
        "\n",
        "import pandas as pd\n",
        "import seaborn as sns\n",
        "import numpy as np\n",
        "import statsmodels.api as sm\n",
        "from statsmodels.formula.api import ols\n",
        "\n",
        "# Load dataset\n",
        "diamonds = sns.load_dataset(\"diamonds\")\n",
        "\n",
        "# Assuming 'diamonds' DataFrame is already defined and includes a 'price' column\n",
        "\n",
        "# Data cleaning steps\n",
        "# Select relevant subset of data\n",
        "diamonds = diamonds[diamonds['color'].isin(['D', 'E', 'F', 'G', 'H', 'I'])]\n",
        "diamonds['log_price'] = np.log(diamonds['price'])\n"
      ]
    },
    {
      "cell_type": "code",
      "execution_count": 25,
      "metadata": {},
      "outputs": [],
      "source": [
        "# Manage Warning in you python script\n",
        "import warnings\n",
        "\n",
        "# Suppress all UserWarnings\n",
        "warnings.filterwarnings('ignore', category=UserWarning)\n",
        "\n",
        "# Alternatively, suppress only specific messages by part of their message text\n",
        "warnings.filterwarnings('ignore', message='covariance of constraints does')\n"
      ]
    },
    {
      "cell_type": "markdown",
      "metadata": {},
      "source": [
        "### One-way ANOVA\n",
        "One-way ANOVA is used here to compare the means of the logarithmic prices among different color grades of diamonds."
      ]
    },
    {
      "cell_type": "code",
      "execution_count": 31,
      "metadata": {
        "trusted": true
      },
      "outputs": [
        {
          "name": "stdout",
          "output_type": "stream",
          "text": [
            "               df        sum_sq     mean_sq           F         PR(>F)\n",
            "C(color)      6.0   1052.065696  175.344283  175.521753  5.820088e-222\n",
            "Residual  51126.0  51074.306444    0.998989         NaN            NaN\n"
          ]
        }
      ],
      "source": [
        "# Run the ANOVA\n",
        "model = ols('log_price ~ C(color)', data=diamonds).fit()\n",
        "anova_results = sm.stats.anova_lm(model, typ=1)\n",
        "print(anova_results)\n"
      ]
    },
    {
      "cell_type": "markdown",
      "metadata": {},
      "source": [
        "### Two-Way ANOVA\n",
        "Understand how cut and color influence diamond prices, considering interactions between theses factors. "
      ]
    },
    {
      "cell_type": "code",
      "execution_count": 32,
      "metadata": {
        "trusted": true
      },
      "outputs": [
        {
          "name": "stdout",
          "output_type": "stream",
          "text": [
            "                       sum_sq       df         F        PR(>F)\n",
            "C(color)                  NaN      6.0       NaN           NaN\n",
            "C(cut)                    NaN      4.0       NaN           NaN\n",
            "C(color):C(cut)    116.543781     24.0  4.866272  4.739459e-07\n",
            "Residual         44928.873326  45024.0       NaN           NaN\n"
          ]
        },
        {
          "name": "stderr",
          "output_type": "stream",
          "text": [
            "/usr/local/lib/python3.11/site-packages/statsmodels/base/model.py:1917: RuntimeWarning: invalid value encountered in divide\n",
            "  F /= J\n"
          ]
        }
      ],
      "source": [
        "# Preparing data for two-way ANOVA\n",
        "\n",
        "## This line filters the diamonds DataFrame to include only those diamonds whose cut is either 'Ideal', 'Premium', or 'Very Good'. These are considered higher quality cuts in the dataset.\n",
        "diamonds_cut = diamonds[diamonds['cut'].isin(['Ideal', 'Premium', 'Very Good'])]\n",
        "\n",
        "# Run two-way ANOVA\n",
        "model2 = ols('log_price ~ C(color) + C(cut) + C(color):C(cut)', data=diamonds_cut).fit()\n",
        "anova2_results = sm.stats.anova_lm(model2, typ=2)\n",
        "print(anova2_results)\n"
      ]
    },
    {
      "cell_type": "markdown",
      "metadata": {},
      "source": [
        "The results for the main effects (color and cut) are missing (NaN values for sum of squares, F-statistic, and p-value). This typically indicates a problem, such as a lack of variability within these groups, such as multicollinearity or missing data."
      ]
    },
    {
      "cell_type": "markdown",
      "metadata": {},
      "source": [
        "### Key Questions Addressed by ANOVA\n",
        "\n",
        "Does the color of a diamond significantly influence its price when the cut quality is accounted for? This question explores the intrinsic value added by color variations in the market perception of diamonds.\n",
        "\n",
        "How does the quality of the cut impact the price independently of color? This addresses the craftsmanship aspect of diamond processing and its effect on pricing.\n",
        "\n",
        "Is there a significant interaction effect between color and cut on diamond prices? This examines whether the combined effect of color and cut is greater than the sum of their individual effects, which can indicate complex consumer preferences in the market."
      ]
    },
    {
      "cell_type": "code",
      "execution_count": 34,
      "metadata": {
        "trusted": true
      },
      "outputs": [
        {
          "name": "stdout",
          "output_type": "stream",
          "text": [
            "Multiple Comparison of Means - Tukey HSD, FWER=0.05\n",
            "===================================================\n",
            "group1 group2 meandiff p-adj   lower  upper  reject\n",
            "---------------------------------------------------\n",
            "     D      E  -0.0375 0.1652 -0.0825 0.0075  False\n",
            "     D      F   0.1455    0.0  0.1003 0.1908   True\n",
            "     D      G   0.1727    0.0  0.1289 0.2165   True\n",
            "     D      H   0.3015    0.0  0.2549 0.3482   True\n",
            "     D      I   0.4061    0.0  0.3542  0.458   True\n",
            "     E      F    0.183    0.0  0.1421  0.224   True\n",
            "     E      G   0.2102    0.0  0.1709 0.2495   True\n",
            "     E      H    0.339    0.0  0.2966 0.3815   True\n",
            "     E      I   0.4436    0.0  0.3953 0.4918   True\n",
            "     F      G   0.0271 0.3698 -0.0125 0.0668  False\n",
            "     F      H    0.156    0.0  0.1133 0.1988   True\n",
            "     F      I   0.2605    0.0  0.2121  0.309   True\n",
            "     G      H   0.1289    0.0  0.0877   0.17   True\n",
            "     G      I   0.2334    0.0  0.1863 0.2804   True\n",
            "     H      I   0.1045    0.0  0.0548 0.1542   True\n",
            "---------------------------------------------------\n"
          ]
        }
      ],
      "source": [
        "# Analysis which groups differ from each other\n",
        "\n",
        "from statsmodels.stats.multicomp import pairwise_tukeyhsd\n",
        "\n",
        "# Post hoc analysis after one-way ANOVA\n",
        "# Comparisons: The test results show comparisons between different color groups.\n",
        "\n",
        "# Significant Differences: Comparisons where the reject column is True indicate significant differences in mean log prices. \n",
        "# For instance, the mean log price of color D is significantly higher than those of colors F, G, H, and I.\n",
        "# Non-Significant Differences: Comparisons with False in the reject column (like between D and E) indicate no significant difference in mean log prices between these color groups.\n",
        "\n",
        "\n",
        "post_hoc_results = pairwise_tukeyhsd(endog=diamonds['log_price'], groups=diamonds['color'], alpha=0.05)\n",
        "print(post_hoc_results.summary())\n"
      ]
    },
    {
      "cell_type": "markdown",
      "metadata": {},
      "source": [
        "### Conclusion and Real-Case Application\n",
        "The analyses show that both color and cut significantly affect diamond prices, with notable interaction effects. This indicates that certain combinations of color and cut are more valued than others.\n",
        "\n"
      ]
    }
  ],
  "metadata": {
    "kernelspec": {
      "display_name": "Python 3",
      "language": "python",
      "name": "python3"
    },
    "language_info": {
      "codemirror_mode": {
        "name": "ipython",
        "version": 3
      },
      "file_extension": ".py",
      "mimetype": "text/x-python",
      "name": "python",
      "nbconvert_exporter": "python",
      "pygments_lexer": "ipython3",
      "version": "3.11.6"
    }
  },
  "nbformat": 4,
  "nbformat_minor": 4
}
