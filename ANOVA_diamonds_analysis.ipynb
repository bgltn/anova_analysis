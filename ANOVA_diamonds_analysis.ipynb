{
  "cells": [
    {
      "cell_type": "markdown",
      "metadata": {},
      "source": [
        "# ANOVA Analysis on Diamond Dataset\n",
        "\n",
        "This Jupyter notebook aims to explore the differences among various groups within the 'diamonds' dataset using ANOVA (Analysis of Variance). This statistical method helps in understanding how different factors like diamond color and cut influence diamond prices. \n",
        "\n",
        "This notebook is designed for individuals looking to understand basic to advanced statistical analysis in Python.\n",
        "\n",
        "## Background\n",
        "The 'diamonds' dataset contains price and other attributes of approximately 54,000 diamonds. It is an excellent dataset for demonstrating ANOVA because it contains both categorical variables (such as color and cut) and continuous variables (like price).\n",
        "\n",
        "### Source\n",
        "Data sourced from seaborn library, simulated representation of market data.\n"
      ]
    },
    {
      "cell_type": "markdown",
      "metadata": {},
      "source": [
        "### Objective and Applicability \n",
        "This notebook demonstrates an advanced statistical analysis using ANOVA (Analysis of Variance) to explore the impact of categorical variables—specifically, the color and cut of diamonds—on their price. By understanding these influences, this analysis aids in strategic decision-making for businesses involved in the trading, valuation, or marketing of diamonds.\n",
        "\n",
        "Practical Applications\n",
        "Strategic Pricing: ANOVA helps identify which factors (color, cut) significantly impact diamond prices. Businesses can use this information to strategically price their products based on these attributes to maximize profit.\n",
        "\n",
        "Inventory Management: By understanding the price variability associated with different cuts and colors, retailers can better manage their inventory by stocking products that are more likely to sell at higher prices.\n",
        "\n",
        "Marketing and Promotions: Insight into which attributes (color and cut) significantly affect price can guide targeted marketing campaigns. For instance, if certain colors or cuts are found to significantly enhance a diamond's value, marketing efforts can be tailored to highlight these premium features to potential customers.\n",
        "\n",
        "Customer Segmentation: The interaction effect between color and cut on price can help businesses understand consumer preferences in more depth. This knowledge can be used to segment customers based on their likely preferences for specific combinations of color and cut, enabling more personalized marketing and sales strategies."
      ]
    },
    {
      "cell_type": "markdown",
      "metadata": {},
      "source": [
        "## Setup and Data Preparation\n",
        "In this section, we load necessary Python libraries and prepare the data by selecting relevant subsets and transforming variables to meet the requirements of ANOVA tests."
      ]
    },
    {
      "cell_type": "code",
      "execution_count": 2,
      "metadata": {},
      "outputs": [],
      "source": [
        "import nbformat as nbformat\n",
        "\n",
        "# Load the Jupyter notebook\n",
        "file_path = 'ANOVA_diamonds.ipynb'\n",
        "with open(file_path, 'r') as f:\n",
        "    nb = nbformat.read(f, as_version=4)\n",
        "\n",
        "\n"
      ]
    },
    {
      "cell_type": "code",
      "execution_count": 3,
      "metadata": {
        "trusted": true
      },
      "outputs": [],
      "source": [
        "# Import Libraries\n",
        "\n",
        "import pandas as pd\n",
        "import seaborn as sns\n",
        "import numpy as np\n",
        "import statsmodels.api as sm\n",
        "from statsmodels.formula.api import ols\n",
        "\n",
        "# Load dataset\n",
        "diamonds = sns.load_dataset(\"diamonds\")\n",
        "\n",
        "# Assuming 'diamonds' DataFrame is already defined and includes a 'price' column\n",
        "\n",
        "# Data cleaning steps\n",
        "# Select relevant subset of data\n",
        "diamonds = diamonds[diamonds['color'].isin(['D', 'E', 'F', 'G', 'H', 'I'])]\n",
        "diamonds['log_price'] = np.log(diamonds['price'])\n"
      ]
    },
    {
      "cell_type": "code",
      "execution_count": 4,
      "metadata": {},
      "outputs": [],
      "source": [
        "# Manage Warning in you python script\n",
        "import warnings\n",
        "\n",
        "# Suppress all UserWarnings\n",
        "warnings.filterwarnings('ignore', category=UserWarning)\n",
        "\n",
        "# Alternatively, suppress only specific messages by part of their message text\n",
        "warnings.filterwarnings('ignore', message='covariance of constraints does')\n"
      ]
    },
    {
      "cell_type": "markdown",
      "metadata": {},
      "source": [
        "### One-way ANOVA\n",
        "One-way ANOVA is used here to compare the means of the logarithmic prices among different color grades of diamonds."
      ]
    },
    {
      "cell_type": "code",
      "execution_count": 5,
      "metadata": {
        "trusted": true
      },
      "outputs": [
        {
          "name": "stdout",
          "output_type": "stream",
          "text": [
            "               df        sum_sq     mean_sq           F         PR(>F)\n",
            "C(color)      6.0   1052.065696  175.344283  175.521753  5.820088e-222\n",
            "Residual  51126.0  51074.306444    0.998989         NaN            NaN\n"
          ]
        }
      ],
      "source": [
        "# Run the ANOVA\n",
        "model = ols('log_price ~ C(color)', data=diamonds).fit()\n",
        "anova_results = sm.stats.anova_lm(model, typ=1)\n",
        "print(anova_results)\n"
      ]
    },
    {
      "cell_type": "markdown",
      "metadata": {},
      "source": [
        "### Two-Way ANOVA\n",
        "Understand how cut and color influence diamond prices, considering interactions between theses factors. "
      ]
    },
    {
      "cell_type": "code",
      "execution_count": 6,
      "metadata": {
        "trusted": true
      },
      "outputs": [
        {
          "name": "stdout",
          "output_type": "stream",
          "text": [
            "                       sum_sq       df         F        PR(>F)\n",
            "C(color)                  NaN      6.0       NaN           NaN\n",
            "C(cut)                    NaN      4.0       NaN           NaN\n",
            "C(color):C(cut)    116.543781     24.0  4.866272  4.739459e-07\n",
            "Residual         44928.873326  45024.0       NaN           NaN\n"
          ]
        },
        {
          "name": "stderr",
          "output_type": "stream",
          "text": [
            "/usr/local/lib/python3.11/site-packages/statsmodels/base/model.py:1917: RuntimeWarning: invalid value encountered in divide\n",
            "  F /= J\n"
          ]
        }
      ],
      "source": [
        "# Preparing data for two-way ANOVA\n",
        "\n",
        "## This line filters the diamonds DataFrame to include only those diamonds whose cut is either 'Ideal', 'Premium', or 'Very Good'. These are considered higher quality cuts in the dataset.\n",
        "diamonds_cut = diamonds[diamonds['cut'].isin(['Ideal', 'Premium', 'Very Good'])]\n",
        "\n",
        "# Run two-way ANOVA\n",
        "model2 = ols('log_price ~ C(color) + C(cut) + C(color):C(cut)', data=diamonds_cut).fit()\n",
        "anova2_results = sm.stats.anova_lm(model2, typ=2)\n",
        "print(anova2_results)\n"
      ]
    },
    {
      "cell_type": "markdown",
      "metadata": {},
      "source": [
        "The results for the main effects (color and cut) are missing (NaN values for sum of squares, F-statistic, and p-value). This typically indicates a problem, such as a lack of variability within these groups, such as multicollinearity or missing data."
      ]
    },
    {
      "cell_type": "markdown",
      "metadata": {},
      "source": [
        "### Key Questions Addressed by ANOVA\n",
        "\n",
        "Does the color of a diamond significantly influence its price when the cut quality is accounted for? This question explores the intrinsic value added by color variations in the market perception of diamonds.\n",
        "\n",
        "How does the quality of the cut impact the price independently of color? This addresses the craftsmanship aspect of diamond processing and its effect on pricing.\n",
        "\n",
        "Is there a significant interaction effect between color and cut on diamond prices? This examines whether the combined effect of color and cut is greater than the sum of their individual effects, which can indicate complex consumer preferences in the market."
      ]
    },
    {
      "cell_type": "code",
      "execution_count": 7,
      "metadata": {
        "trusted": true
      },
      "outputs": [
        {
          "name": "stdout",
          "output_type": "stream",
          "text": [
            "Multiple Comparison of Means - Tukey HSD, FWER=0.05\n",
            "===================================================\n",
            "group1 group2 meandiff p-adj   lower  upper  reject\n",
            "---------------------------------------------------\n",
            "     D      E  -0.0375 0.1652 -0.0825 0.0075  False\n",
            "     D      F   0.1455    0.0  0.1003 0.1908   True\n",
            "     D      G   0.1727    0.0  0.1289 0.2165   True\n",
            "     D      H   0.3015    0.0  0.2549 0.3482   True\n",
            "     D      I   0.4061    0.0  0.3542  0.458   True\n",
            "     E      F    0.183    0.0  0.1421  0.224   True\n",
            "     E      G   0.2102    0.0  0.1709 0.2495   True\n",
            "     E      H    0.339    0.0  0.2966 0.3815   True\n",
            "     E      I   0.4436    0.0  0.3953 0.4918   True\n",
            "     F      G   0.0271 0.3698 -0.0125 0.0668  False\n",
            "     F      H    0.156    0.0  0.1133 0.1988   True\n",
            "     F      I   0.2605    0.0  0.2121  0.309   True\n",
            "     G      H   0.1289    0.0  0.0877   0.17   True\n",
            "     G      I   0.2334    0.0  0.1863 0.2804   True\n",
            "     H      I   0.1045    0.0  0.0548 0.1542   True\n",
            "---------------------------------------------------\n"
          ]
        }
      ],
      "source": [
        "# Analysis which groups differ from each other\n",
        "\n",
        "from statsmodels.stats.multicomp import pairwise_tukeyhsd\n",
        "\n",
        "# Post hoc analysis after one-way ANOVA\n",
        "# Comparisons: The test results show comparisons between different color groups.\n",
        "\n",
        "# Significant Differences: Comparisons where the reject column is True indicate significant differences in mean log prices. \n",
        "# For instance, the mean log price of color D is significantly higher than those of colors F, G, H, and I.\n",
        "# Non-Significant Differences: Comparisons with False in the reject column (like between D and E) indicate no significant difference in mean log prices between these color groups.\n",
        "\n",
        "\n",
        "post_hoc_results = pairwise_tukeyhsd(endog=diamonds['log_price'], groups=diamonds['color'], alpha=0.05)\n",
        "print(post_hoc_results.summary())\n"
      ]
    },
    {
      "cell_type": "markdown",
      "metadata": {},
      "source": [
        "### Conclusion and Real-Case Application\n",
        "The analyses show that both color and cut significantly affect diamond prices, with notable interaction effects. This indicates that certain combinations of color and cut are more valued than others.\n",
        "\n"
      ]
    }
  ],
  "metadata": {
    "kernelspec": {
      "display_name": "Python 3",
      "language": "python",
      "name": "python3"
    },
    "language_info": {
      "codemirror_mode": {
        "name": "ipython",
        "version": 3
      },
      "file_extension": ".py",
      "mimetype": "text/x-python",
      "name": "python",
      "nbconvert_exporter": "python",
      "pygments_lexer": "ipython3",
      "version": "3.11.6"
    }
  },
  "nbformat": 4,
  "nbformat_minor": 4
}
